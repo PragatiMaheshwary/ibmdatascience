{
 "cells": [
  {
   "cell_type": "markdown",
   "id": "6b8002bc-997e-437c-8bb1-aefb80634a1b",
   "metadata": {},
   "source": [
    "# My Jupyter Notebook on IBM Watson Studio"
   ]
  },
  {
   "cell_type": "markdown",
   "id": "bad52bd7-a90d-4e5d-9d8f-f8e081cac3cc",
   "metadata": {},
   "source": [
    "**Pragati Maheshwary** <br>\n",
    "Cognitive Scientist & Researcher"
   ]
  },
  {
   "cell_type": "markdown",
   "id": "e8ab476a-de90-4e1f-a308-f056b4295e1f",
   "metadata": {},
   "source": [
    "*I am interested in Data Science because it aids every field by providing valuable insights to make smarter data driven decisions. As a researcher it would also help me analyze better the data I collect from my future research and studies.*"
   ]
  },
  {
   "cell_type": "markdown",
   "id": "25416c45-080d-4832-bf79-82f2cf2af636",
   "metadata": {},
   "source": [
    "### The below mentioned code prints the sum of first ten natural numbers."
   ]
  },
  {
   "cell_type": "code",
   "execution_count": 3,
   "id": "e5572e28-4fb8-4b8a-8c00-84ea62ecd9b5",s
   "metadata": {},
   "outputs": [
    {
     "name": "stdout",
     "output_type": "stream",
     "text": [
      "The sum is 55\n"
     ]
    }
   ],
   "source": [
    "# Sum of natural numbers up to num\n",
    "\n",
    "num = 10\n",
    "\n",
    "if num < 0:\n",
    "   print(\"Enter a positive number\")\n",
    "else:\n",
    "   sum = 0\n",
    "   # use while loop to iterate until zero\n",
    "   while(num > 0):\n",
    "       sum += num\n",
    "       num -= 1\n",
    "   print(\"The sum is\", sum)"
   ]
  },
  {
   "cell_type": "markdown",
   "id": "802e2a21-8cd8-4671-bcc8-da72fd2dd6d5",
   "metadata": {},
   "source": [
    "\n",
    "<ol>\n",
    "    <li>My Interests :</li>\n",
    "<ul>\n",
    "    <li>Reading fiction novels</li>\n",
    "    <li>Singing</li>\n",
    "    <li>Making portraits and sketches</li>\n",
    "    </ul><br>\n",
    "    <li>My Social Media :</li>\n",
    "    \n",
    "|Instagram|LinkedIn|\n",
    "|------------|-----------|\n",
    "|<a href=https://www.instagram.com/workin._.progress/>@workin._.progress</a>|<a href=https://www.linkedin.com/in/pragati-maheshwary-957026204/>@PragatiMaheshwary</a>|\n",
    "\n"
   ]
  }
 ],
 "metadata": {
  "kernelspec": {
   "display_name": "Python",
   "language": "python",
   "name": "conda-env-python-py"
  },
  "language_info": {
   "codemirror_mode": {
    "name": "ipython",
    "version": 3
   },
   "file_extension": ".py",
   "mimetype": "text/x-python",
   "name": "python",
   "nbconvert_exporter": "python",
   "pygments_lexer": "ipython3",
   "version": "3.7.12"
  }
 },
 "nbformat": 4,
 "nbformat_minor": 5
}
